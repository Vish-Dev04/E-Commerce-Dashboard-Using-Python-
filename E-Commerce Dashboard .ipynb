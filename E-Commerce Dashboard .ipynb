{
 "cells": [
  {
   "cell_type": "code",
   "execution_count": 1,
   "id": "08acad1e-9076-4560-8395-bb6d096d3a5e",
   "metadata": {},
   "outputs": [],
   "source": [
    "import pandas as pd\n",
    "import numpy as np\n",
    "import datetime as dt\n",
    "import matplotlib.pyplot as plt\n",
    "import seaborn as sns\n",
    "from sklearn.preprocessing import StandardScaler\n",
    "from sklearn.cluster import KMeans\n",
    "from sklearn.metrics import silhouette_score"
   ]
  },
  {
   "cell_type": "code",
   "execution_count": null,
   "id": "ac857cf3-3a78-4b0a-a082-380061c7f9df",
   "metadata": {},
   "outputs": [],
   "source": [
    "df = pd.read_excel('E:/OneDrive/Desktop/Online Retail.xlsx')\n",
    "print(df.head())\n",
    "print(\"\\nData Info:\")\n",
    "print(df.info())\n",
    "print(\"\\nSummary Statistics:\")\n",
    "print(df.describe())\n",
    "print(\"\\nNumber of Unique Customers:\", df['CustomerID'].nunique())\n"
   ]
  },
  {
   "cell_type": "code",
   "execution_count": null,
   "id": "b4880ba5-252d-4f12-af47-9acfe6075ecb",
   "metadata": {},
   "outputs": [],
   "source": [
    "df.dropna(subset=['CustomerID'], inplace=True)\n",
    "df['CustomerID'] = df['CustomerID'].astype(int)"
   ]
  },
  {
   "cell_type": "code",
   "execution_count": null,
   "id": "96378854-7196-4a34-9bf3-2dd1f6194ae9",
   "metadata": {},
   "outputs": [],
   "source": [
    "df.drop_duplicates(inplace=True)"
   ]
  },
  {
   "cell_type": "code",
   "execution_count": null,
   "id": "391aacd7-b6e3-4fe7-96b1-10c4a001cf6a",
   "metadata": {},
   "outputs": [],
   "source": [
    "df = df[(df['Quantity'] > 0) & (df['UnitPrice'] > 0)]"
   ]
  },
  {
   "cell_type": "code",
   "execution_count": null,
   "id": "aeef33e0-4770-4d73-9d1a-01c4740c8e2d",
   "metadata": {},
   "outputs": [],
   "source": [
    "df['InvoiceDate'] = pd.to_datetime(df['InvoiceDate'])\n",
    "print(\"\\nCleaned Data Shape:\", df.shape)"
   ]
  },
  {
   "cell_type": "code",
   "execution_count": null,
   "id": "2682f38e-8c6a-4c4a-906f-58af9df0e483",
   "metadata": {},
   "outputs": [],
   "source": [
    "latest_date = df['InvoiceDate'].max() + dt.timedelta(days=1)\n",
    "rfm_df = df.groupby('CustomerID').agg({\n",
    "    'InvoiceDate': lambda x: (latest_date - x.max()).days,\n",
    "    'InvoiceNo': 'nunique',\n",
    "    'Quantity': 'sum',\n",
    "    'UnitPrice': 'sum'\n",
    "})\n",
    "rfm_df.rename(columns={'InvoiceDate': 'Recency',\n",
    "                       'InvoiceNo': 'Frequency',\n",
    "                       'Quantity': 'TotalQuantity',\n",
    "                       'UnitPrice': 'TotalRevenue'}, inplace=True)\n",
    "\n",
    "rfm_df['Monetary'] = rfm_df['TotalQuantity'] * rfm_df['TotalRevenue'] \n",
    "\n",
    "rfm_df = rfm_df[['Recency', 'Frequency', 'Monetary']]\n",
    "\n",
    "print(\"\\nRFM Data:\")\n",
    "print(rfm_df.head())\n"
   ]
  },
  {
   "cell_type": "code",
   "execution_count": null,
   "id": "795344cd-27bc-4fbc-94c0-94e9391fb38c",
   "metadata": {},
   "outputs": [],
   "source": [
    "plt.figure(figsize=(15, 5))\n",
    "plt.subplot(1, 3, 1)\n",
    "sns.histplot(rfm_df['Recency'])\n",
    "plt.title('Recency Distribution')\n",
    "plt.subplot(1, 3, 2)\n",
    "sns.histplot(rfm_df['Frequency'])\n",
    "plt.title('Frequency Distribution')\n",
    "plt.subplot(1, 3, 3)\n",
    "sns.histplot(rfm_df['Monetary'])\n",
    "plt.title('Monetary Distribution')\n",
    "plt.tight_layout()\n",
    "plt.show()"
   ]
  },
  {
   "cell_type": "code",
   "execution_count": null,
   "id": "9c046753-9fe3-42de-8a5a-f74df233e4ce",
   "metadata": {},
   "outputs": [],
   "source": [
    "rfm_log = np.log1p(rfm_df)\n",
    "plt.figure(figsize=(15, 5))\n",
    "plt.subplot(1, 3, 1)\n",
    "sns.histplot(rfm_log['Recency'])\n",
    "plt.title('Log-transformed Recency')\n",
    "plt.subplot(1, 3, 2)\n",
    "sns.histplot(rfm_log['Frequency'])\n",
    "plt.title('Log-transformed Frequency')\n",
    "plt.subplot(1, 3, 3)\n",
    "sns.histplot(rfm_log['Monetary'])\n",
    "plt.title('Log-transformed Monetary')\n",
    "plt.tight_layout()\n",
    "plt.show()"
   ]
  },
  {
   "cell_type": "code",
   "execution_count": null,
   "id": "b3af70d9-af12-4849-9398-05376e6446e9",
   "metadata": {},
   "outputs": [],
   "source": [
    "scaler = StandardScaler()\n",
    "rfm_scaled = scaler.fit_transform(rfm_log)\n",
    "rfm_scaled_df = pd.DataFrame(rfm_scaled, index=rfm_log.index, columns=rfm_log.columns)\n",
    "print(\"\\nScaled RFM Data:\")\n",
    "print(rfm_scaled_df.head())"
   ]
  },
  {
   "cell_type": "code",
   "execution_count": null,
   "id": "15e7f5d3-efab-4812-8dfe-5e75dbc820ac",
   "metadata": {},
   "outputs": [],
   "source": [
    "inertia = []\n",
    "range_n_clusters = range(2, 11)\n",
    "for n_clusters in range_n_clusters:\n",
    "    kmeans = KMeans(n_clusters=n_clusters, random_state=42, n_init=10)\n",
    "    kmeans.fit(rfm_scaled_df)\n",
    "    inertia.append(kmeans.inertia_)\n",
    "\n",
    "plt.figure(figsize=(10, 6))\n",
    "plt.plot(range_n_clusters, inertia, marker='o', linestyle='-')\n",
    "plt.title('Elbow Method for Optimal k')\n",
    "plt.xlabel('Number of Clusters')\n",
    "plt.ylabel('Inertia')\n",
    "plt.xticks(range_n_clusters)\n",
    "plt.grid(True)\n",
    "plt.show()"
   ]
  },
  {
   "cell_type": "code",
   "execution_count": null,
   "id": "c51176ff-3e6a-41b5-b9e2-5fc357939ce7",
   "metadata": {},
   "outputs": [],
   "source": [
    "silhouette_scores = []\n",
    "for n_clusters in range_n_clusters:\n",
    "    kmeans = KMeans(n_clusters=n_clusters, random_state=42, n_init=10)\n",
    "    cluster_labels = kmeans.fit_predict(rfm_scaled_df)\n",
    "    silhouette_avg = silhouette_score(rfm_scaled_df, cluster_labels)\n",
    "    silhouette_scores.append(silhouette_avg)\n",
    "\n",
    "plt.figure(figsize=(10, 6))\n",
    "plt.plot(range_n_clusters, silhouette_scores, marker='o', linestyle='-')\n",
    "plt.title('Silhouette Analysis for Optimal k')\n",
    "plt.xlabel('Number of Clusters')\n",
    "plt.ylabel('Silhouette Score')\n",
    "plt.xticks(range_n_clusters)\n",
    "plt.grid(True)\n",
    "plt.show()"
   ]
  },
  {
   "cell_type": "code",
   "execution_count": null,
   "id": "4451c04b-f2a3-43f9-a8fa-96397a953fd0",
   "metadata": {},
   "outputs": [],
   "source": [
    "n_clusters = 3  # Choose your optimal number of clusters\n",
    "kmeans = KMeans(n_clusters=n_clusters, random_state=42, n_init=10)\n",
    "rfm_df['Cluster'] = kmeans.fit_predict(rfm_scaled_df)\n",
    "\n",
    "print(\"\\nRFM Data with Cluster Labels:\")\n",
    "print(rfm_df.head())"
   ]
  },
  {
   "cell_type": "code",
   "execution_count": null,
   "id": "36b5d048-9db2-4525-843f-b7863954f63f",
   "metadata": {},
   "outputs": [],
   "source": [
    "cluster_analysis = rfm_df.groupby('Cluster').agg({\n",
    "    'Recency': 'mean',\n",
    "    'Frequency': 'mean',\n",
    "    'Monetary': ['mean', 'count']\n",
    "}).round(1)\n",
    "print(\"\\nCluster Analysis:\")\n",
    "print(cluster_analysis)\n",
    "\n",
    "def assign_segment(row):\n",
    "    if row['Cluster'] == 0:\n",
    "        return 'Loyal Customers'\n",
    "    elif row['Cluster'] == 1:\n",
    "        return 'Potential High-Value'\n",
    "    else:\n",
    "        return 'At-Risk Customers' # Adjust labels based on your cluster analysis\n",
    "\n",
    "rfm_df['Segment'] = rfm_df.apply(assign_segment, axis=1)\n",
    "print(\"\\nRFM Data with Segments:\")\n",
    "print(rfm_df.head())"
   ]
  },
  {
   "cell_type": "code",
   "execution_count": null,
   "id": "6deb4a63-3342-42db-85c4-8a81ab5c18fa",
   "metadata": {},
   "outputs": [],
   "source": [
    "plt.figure(figsize=(8, 6))\n",
    "sns.countplot(data=rfm_df, x='Segment', palette='viridis')\n",
    "plt.title('Customer Segment Distribution')\n",
    "plt.xlabel('Customer Segment')\n",
    "plt.ylabel('Number of Customers')\n",
    "plt.show()\n",
    "\n",
    "plt.figure(figsize=(15, 5))\n",
    "plt.subplot(1, 3, 1)\n",
    "sns.boxplot(data=rfm_df, x='Segment', y='Recency', palette='viridis')\n",
    "plt.title('Recency by Segment')\n",
    "plt.subplot(1, 3, 2)\n",
    "sns.boxplot(data=rfm_df, x='Segment', y='Frequency', palette='viridis')\n",
    "plt.title('Frequency by Segment')\n",
    "plt.subplot(1, 3, 3)\n",
    "sns.boxplot(data=rfm_df, x='Segment', y='Monetary', palette='viridis')\n",
    "plt.title('Monetary Value by Segment')\n",
    "plt.tight_layout()\n",
    "plt.show()"
   ]
  },
  {
   "cell_type": "code",
   "execution_count": null,
   "id": "99041eac-22a6-479c-8410-f1049c9b216e",
   "metadata": {},
   "outputs": [],
   "source": [
    "print(\"\\nRecommendations for Targeted Marketing:\")\n",
    "print(rfm_df.groupby('Segment').agg({\n",
    "    'Recency': 'mean',\n",
    "    'Frequency': 'mean',\n",
    "    'Monetary': 'mean',\n",
    "    'Segment': 'count'\n",
    "}))\n",
    "print(\"\\nBased on the analysis:\")\n",
    "print(\"- **Loyal Customers:** High Recency, Frequency, and Monetary values. Focus on retention strategies, loyalty programs, and upselling.\")\n",
    "print(\"- **Potential High-Value:** Recent purchases, decent frequency and monetary value. Engage them with personalized offers and build long-term relationships.\")\n",
    "print(\"- **At-Risk Customers:** High Recency, lower Frequency and Monetary values. Implement reactivation campaigns with attractive discounts or new product highlights.\")"
   ]
  },
  {
   "cell_type": "code",
   "execution_count": null,
   "id": "1df7b486-b18c-49cf-8f09-251c4304b8cb",
   "metadata": {},
   "outputs": [],
   "source": []
  }
 ],
 "metadata": {
  "kernelspec": {
   "display_name": "Python 3 (ipykernel)",
   "language": "python",
   "name": "python3"
  },
  "language_info": {
   "codemirror_mode": {
    "name": "ipython",
    "version": 3
   },
   "file_extension": ".py",
   "mimetype": "text/x-python",
   "name": "python",
   "nbconvert_exporter": "python",
   "pygments_lexer": "ipython3",
   "version": "3.11.7"
  }
 },
 "nbformat": 4,
 "nbformat_minor": 5
}
